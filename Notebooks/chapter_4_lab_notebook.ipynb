{
 "cells": [
  {
   "cell_type": "markdown",
   "id": "8fed6c2f",
   "metadata": {},
   "source": [
    "# Chapter 4 Lab Notebook  \n",
    "**Topic:** Time Travel & Zero‑Copy Cloning  \n",
    "**Date generated:** 2025-06-25  \n",
    "\n",
    "This interactive notebook mirrors the concepts covered in the lecture and worksheet.  \n",
    "Follow each step; run the SQL cells in order.  \n",
    "\n",
    "> Use role **SYSADMIN**, database **LAB_DB**, schema **PUBLIC**, warehouse **COMPUTE_WH**.\n"
   ]
  },
  {
   "cell_type": "code",
   "execution_count": null,
   "id": "d4d18793",
   "metadata": {},
   "outputs": [],
   "source": [
    "-- STEP 0 · Set context & query tag\n",
    "USE ROLE SYSADMIN;\n",
    "USE WAREHOUSE compute_wh;\n",
    "USE DATABASE lab_db;\n",
    "USE SCHEMA public;\n",
    "\n",
    "ALTER SESSION SET QUERY_TAG = 'chapter_4_lab';\n"
   ]
  },
  {
   "cell_type": "markdown",
   "id": "f6c68422",
   "metadata": {},
   "source": [
    "## 1️⃣ Create `users` table and insert sample data"
   ]
  },
  {
   "cell_type": "code",
   "execution_count": null,
   "id": "c80724d0",
   "metadata": {},
   "outputs": [],
   "source": [
    "-- TODO: create table and insert rows\n",
    "-- CREATE OR REPLACE TABLE users ( ... );\n",
    "-- INSERT INTO users VALUES ( ... );\n"
   ]
  },
  {
   "cell_type": "markdown",
   "id": "04ce3acc",
   "metadata": {},
   "source": [
    "## 2️⃣ Drop the table to simulate accidental deletion"
   ]
  },
  {
   "cell_type": "code",
   "execution_count": null,
   "id": "b28122bd",
   "metadata": {},
   "outputs": [],
   "source": [
    "-- TODO: DROP TABLE users;"
   ]
  },
  {
   "cell_type": "markdown",
   "id": "0ec30b68",
   "metadata": {},
   "source": [
    "## 3️⃣ Restore the table using **Time Travel**"
   ]
  },
  {
   "cell_type": "code",
   "execution_count": null,
   "id": "faf2327d",
   "metadata": {},
   "outputs": [],
   "source": [
    "-- TODO: UNDROP TABLE users; SELECT * FROM users;"
   ]
  },
  {
   "cell_type": "markdown",
   "id": "6f41cc31",
   "metadata": {},
   "source": [
    "## 4️⃣ Query a past version of the table"
   ]
  },
  {
   "cell_type": "code",
   "execution_count": null,
   "id": "c4af687a",
   "metadata": {},
   "outputs": [],
   "source": [
    "-- TODO: SELECT * FROM users AT (OFFSET => -60);"
   ]
  },
  {
   "cell_type": "markdown",
   "id": "82faa27b",
   "metadata": {},
   "source": [
    "## 5️⃣ Create a zero‑copy clone"
   ]
  },
  {
   "cell_type": "code",
   "execution_count": null,
   "id": "a8ca6e76",
   "metadata": {},
   "outputs": [],
   "source": [
    "-- TODO: CREATE OR REPLACE TABLE users_clone CLONE users;"
   ]
  },
  {
   "cell_type": "markdown",
   "id": "916a0411",
   "metadata": {},
   "source": [
    "## 6️⃣ Modify the clone to demonstrate independence"
   ]
  },
  {
   "cell_type": "code",
   "execution_count": null,
   "id": "fcf8e1ad",
   "metadata": {},
   "outputs": [],
   "source": [
    "-- TODO: INSERT new row into users_clone and compare counts"
   ]
  },
  {
   "cell_type": "markdown",
   "id": "d8b4881f",
   "metadata": {},
   "source": [
    "## 7️⃣ Clean up"
   ]
  },
  {
   "cell_type": "code",
   "execution_count": null,
   "id": "eb9c4958",
   "metadata": {},
   "outputs": [],
   "source": [
    "-- Optional: DROP TABLE IF EXISTS users; DROP TABLE IF EXISTS users_clone;"
   ]
  }
 ],
 "metadata": {},
 "nbformat": 4,
 "nbformat_minor": 5
}
