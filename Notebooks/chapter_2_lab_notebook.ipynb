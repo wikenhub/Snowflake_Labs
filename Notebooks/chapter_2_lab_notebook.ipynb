{
 "cells": [
  {
   "cell_type": "markdown",
   "id": "0b337322",
   "metadata": {},
   "source": [
    "# Chapter 2 Lab: Working with External Stages\n",
    "In this lab, you will create an external stage, define file formats, and load data from external Azure Storage."
   ]
  },
  {
   "cell_type": "markdown",
   "id": "be3b6399",
   "metadata": {},
   "source": [
    "## Step 1: Create a file format for CSV"
   ]
  },
  {
   "cell_type": "code",
   "execution_count": null,
   "id": "ff465847",
   "metadata": {},
   "outputs": [],
   "source": [
    "CREATE OR REPLACE FILE FORMAT lab_csv_format\n",
    "  TYPE = 'CSV'\n",
    "  FIELD_OPTIONALLY_ENCLOSED_BY = '\"'\n",
    "  SKIP_HEADER = 1;"
   ]
  },
  {
   "cell_type": "markdown",
   "id": "2ff9768b",
   "metadata": {},
   "source": [
    "## Step 2: Create a stage for `subscriptions.csv`\n",
    "(Assume your instructor has provided the SAS URL.)"
   ]
  },
  {
   "cell_type": "code",
   "execution_count": null,
   "id": "765fe46b",
   "metadata": {},
   "outputs": [],
   "source": [
    "-- Replace <YOUR_SAS_TOKEN> below with the actual SAS token\n",
    "CREATE OR REPLACE STAGE ext_stage_subscriptions\n",
    "  URL = 'https://ktlabstaging.blob.core.windows.net/lab-data'\n",
    "  CREDENTIALS = (AZURE_SAS_TOKEN = '<YOUR_SAS_TOKEN>')\n",
    "  FILE_FORMAT = lab_csv_format;"
   ]
  },
  {
   "cell_type": "markdown",
   "id": "15806fa2",
   "metadata": {},
   "source": [
    "## Step 3: List files in the stage"
   ]
  },
  {
   "cell_type": "code",
   "execution_count": null,
   "id": "d00b5320",
   "metadata": {},
   "outputs": [],
   "source": [
    "LIST @ext_stage_subscriptions;"
   ]
  },
  {
   "cell_type": "markdown",
   "id": "ab78ebf5",
   "metadata": {},
   "source": [
    "## Step 4: Create a table for `subscriptions.csv`\n",
    "Refer to the sample headers and create an appropriate schema."
   ]
  },
  {
   "cell_type": "code",
   "execution_count": null,
   "id": "5ea9c0da",
   "metadata": {},
   "outputs": [],
   "source": [
    "-- TODO: Write CREATE TABLE statement for subscriptions"
   ]
  },
  {
   "cell_type": "markdown",
   "id": "10489f0c",
   "metadata": {},
   "source": [
    "## Step 5: Load data from the stage"
   ]
  },
  {
   "cell_type": "code",
   "execution_count": null,
   "id": "59dcfa6d",
   "metadata": {},
   "outputs": [],
   "source": [
    "-- TODO: Write COPY INTO statement to load subscriptions.csv"
   ]
  }
 ],
 "metadata": {},
 "nbformat": 4,
 "nbformat_minor": 5
}
