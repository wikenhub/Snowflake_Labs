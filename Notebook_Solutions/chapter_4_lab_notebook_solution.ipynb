{
 "cells": [
  {
   "cell_type": "markdown",
   "id": "8ee8c1f5",
   "metadata": {},
   "source": [
    "# Chapter 4 Lab Notebook  \n",
    "**Topic:** Time Travel & Zero‑Copy Cloning  \n",
    "**Date generated:** 2025-06-25  \n",
    "\n",
    "This interactive notebook mirrors the concepts covered in the lecture and worksheet.  \n",
    "Follow each step; run the SQL cells in order.  \n",
    "\n",
    "> Use role **SYSADMIN**, database **LAB_DB**, schema **PUBLIC**, warehouse **COMPUTE_WH**.\n"
   ]
  },
  {
   "cell_type": "code",
   "execution_count": null,
   "id": "4f0f2f83",
   "metadata": {},
   "outputs": [],
   "source": [
    "-- STEP 0 · Set context & query tag\n",
    "USE ROLE SYSADMIN;\n",
    "USE WAREHOUSE compute_wh;\n",
    "USE DATABASE lab_db;\n",
    "USE SCHEMA public;\n",
    "\n",
    "ALTER SESSION SET QUERY_TAG = 'chapter_4_lab';\n"
   ]
  },
  {
   "cell_type": "markdown",
   "id": "f1456b23",
   "metadata": {},
   "source": [
    "## 1️⃣ Create `users` table and insert sample data"
   ]
  },
  {
   "cell_type": "code",
   "execution_count": null,
   "id": "c6c3d9f3",
   "metadata": {},
   "outputs": [],
   "source": [
    "-- Create sample table\n",
    "CREATE OR REPLACE TABLE users (\n",
    "  user_id     INT,\n",
    "  username    STRING,\n",
    "  email       STRING,\n",
    "  created_at  TIMESTAMP\n",
    ");\n",
    "\n",
    "INSERT INTO users VALUES\n",
    "  (1,'alice','alice@example.com',CURRENT_TIMESTAMP),\n",
    "  (2,'bob','bob@example.com',CURRENT_TIMESTAMP),\n",
    "  (3,'carol','carol@example.com',CURRENT_TIMESTAMP);\n",
    "\n",
    "SELECT * FROM users;\n"
   ]
  },
  {
   "cell_type": "markdown",
   "id": "ec37bdd3",
   "metadata": {},
   "source": [
    "## 2️⃣ Drop the table to simulate accidental deletion"
   ]
  },
  {
   "cell_type": "code",
   "execution_count": null,
   "id": "7e11a10e",
   "metadata": {},
   "outputs": [],
   "source": [
    "DROP TABLE users;"
   ]
  },
  {
   "cell_type": "markdown",
   "id": "a02215dd",
   "metadata": {},
   "source": [
    "## 3️⃣ Restore the table using **Time Travel**"
   ]
  },
  {
   "cell_type": "code",
   "execution_count": null,
   "id": "9f846e4b",
   "metadata": {},
   "outputs": [],
   "source": [
    "UNDROP TABLE users;\n",
    "SELECT * FROM users;"
   ]
  },
  {
   "cell_type": "markdown",
   "id": "e7ec400c",
   "metadata": {},
   "source": [
    "## 4️⃣ Query a past version of the table"
   ]
  },
  {
   "cell_type": "code",
   "execution_count": null,
   "id": "320efe0d",
   "metadata": {},
   "outputs": [],
   "source": [
    "SELECT * FROM users AT (OFFSET => -60);"
   ]
  },
  {
   "cell_type": "markdown",
   "id": "a35fec2e",
   "metadata": {},
   "source": [
    "## 5️⃣ Create a zero‑copy clone"
   ]
  },
  {
   "cell_type": "code",
   "execution_count": null,
   "id": "b29897ec",
   "metadata": {},
   "outputs": [],
   "source": [
    "CREATE OR REPLACE TABLE users_clone CLONE users;\n",
    "SELECT * FROM users_clone;"
   ]
  },
  {
   "cell_type": "markdown",
   "id": "61a01b95",
   "metadata": {},
   "source": [
    "## 6️⃣ Modify the clone to demonstrate independence"
   ]
  },
  {
   "cell_type": "code",
   "execution_count": null,
   "id": "71702c27",
   "metadata": {},
   "outputs": [],
   "source": [
    "INSERT INTO users_clone VALUES (4,'dave','dave@example.com',CURRENT_TIMESTAMP);\n",
    "\n",
    "-- Verify\n",
    "SELECT COUNT(*) AS original_rows FROM users;\n",
    "SELECT COUNT(*) AS clone_rows FROM users_clone;"
   ]
  },
  {
   "cell_type": "markdown",
   "id": "66c49063",
   "metadata": {},
   "source": [
    "## 7️⃣ Clean up"
   ]
  },
  {
   "cell_type": "code",
   "execution_count": null,
   "id": "9534a9c0",
   "metadata": {},
   "outputs": [],
   "source": [
    "DROP TABLE IF EXISTS users;\n",
    "DROP TABLE IF EXISTS users_clone;"
   ]
  }
 ],
 "metadata": {},
 "nbformat": 4,
 "nbformat_minor": 5
}
