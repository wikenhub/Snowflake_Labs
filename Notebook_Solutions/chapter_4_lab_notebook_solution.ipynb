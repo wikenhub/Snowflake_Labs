{
 "cells": [
  {
   "cell_type": "markdown",
   "id": "0c3cd414",
   "metadata": {},
   "source": [
    "# ❄️ Chapter 4: Data Lifecycle Features – Time Travel, Undrop, and Cloning\n",
    "\n",
    "In this lab, you will learn how to use **Time Travel**, **Drop/Undrop**, and **Cloning** in Snowflake.\n",
    "These powerful features allow for version control, recovery from mistakes, and safe experimentation.\n"
   ]
  },
  {
   "cell_type": "markdown",
   "id": "4486e296",
   "metadata": {},
   "source": [
    "## 🧪 Step 1: Create and Populate a Table\n",
    "Create a `users` table and insert a few rows."
   ]
  },
  {
   "cell_type": "code",
   "execution_count": null,
   "id": "45378c36",
   "metadata": {},
   "outputs": [],
   "source": [
    "-- TODO: Create the table\n",
    "-- SYNTAX:\n",
    "-- CREATE OR REPLACE TABLE <table_name> (<column_name> <datatype>, ...);\n",
    "\n",
    "CREATE OR REPLACE TABLE users (\n",
    "    id INT,\n",
    "    name STRING,\n",
    "    signup_date DATE\n",
    ");\n",
    "\n",
    "-- TODO: Insert a few rows\n",
    "-- SYNTAX:\n",
    "-- INSERT INTO <table_name> VALUES (...), (...), ...;\n",
    "\n",
    "INSERT INTO users VALUES\n",
    "    (1, 'Alice', '2024-06-01'),\n",
    "    (2, 'Bob', '2024-06-15'),\n",
    "    (3, 'Charlie', '2024-06-20');\n"
   ]
  },
  {
   "cell_type": "code",
   "execution_count": null,
   "id": "b51900be",
   "metadata": {},
   "outputs": [],
   "source": [
    "-- TODO: Verify the data\n",
    "-- SYNTAX:\n",
    "-- SELECT * FROM <table_name>;\n",
    "\n",
    "SELECT * FROM users;"
   ]
  },
  {
   "cell_type": "code",
   "execution_count": null,
   "id": "82fdb685",
   "metadata": {},
   "outputs": [],
   "source": [
    "-- TODO: After waiting for at least 1 minute, add additional rows\n",
    "-- SYNTAX:\n",
    "-- INSERT INTO <table_name> VALUES (...), (...), ...;   \n",
    "-- Row Values to  Insert:\n",
    "--   (4, 'David', '2024-07-01'),\n",
    "--   (5, 'Eve', '2024-07-05')  \n",
    "\n",
    "INSERT INTO users VALUES\n",
    "    (4, 'David', '2024-07-01'),\n",
    "    (5, 'Eve', '2024-07-05');"
   ]
  },
  {
   "cell_type": "markdown",
   "id": "52ea1ee1",
   "metadata": {},
   "source": [
    "## ⏳ Step 2: Query Using Time Travel (OFFSET)\n",
    "Explore how to retrieve table contents as of an earlier time using **OFFSET**."
   ]
  },
  {
   "cell_type": "code",
   "execution_count": null,
   "id": "9166d124",
   "metadata": {},
   "outputs": [],
   "source": [
    "-- TODO: Run a SELECT using OFFSET\n",
    "-- OFFSET specifies the number of seconds before the current time\n",
    "-- SYNTAX:\n",
    "-- SELECT * FROM <table_name> AT (OFFSET => -<seconds>);\n",
    "\n",
    "SELECT * FROM users AT (OFFSET => -60);  -- 1 minute ago\n"
   ]
  },
  {
   "cell_type": "markdown",
   "id": "92f5d638",
   "metadata": {},
   "source": [
    "## 💥 Step 3: Drop the Table"
   ]
  },
  {
   "cell_type": "code",
   "execution_count": null,
   "id": "9ef16f43",
   "metadata": {},
   "outputs": [],
   "source": [
    "-- TODO: Drop the table users that we created above\n",
    "-- SYNTAX:\n",
    "-- DROP TABLE <table_name>;\n",
    "\n",
    "DROP TABLE users;\n"
   ]
  },
  {
   "cell_type": "markdown",
   "id": "f7cf4d37",
   "metadata": {},
   "source": [
    "## ♻️ Step 4: Recover Dropped Table with UNDROP"
   ]
  },
  {
   "cell_type": "code",
   "execution_count": null,
   "id": "b68e775e",
   "metadata": {},
   "outputs": [],
   "source": [
    "-- TODO: Undrop the table\n",
    "-- SYNTAX:\n",
    "-- UNDROP TABLE <table_name>;\n",
    "\n",
    "UNDROP TABLE users;\n",
    "\n",
    "-- Validate recovery using SELECT\n",
    "SELECT * FROM users;\n"
   ]
  },
  {
   "cell_type": "markdown",
   "id": "9a76805b",
   "metadata": {},
   "source": [
    "## 🧬 Step 5: Create a Clone of the Table"
   ]
  },
  {
   "cell_type": "code",
   "execution_count": null,
   "id": "c7c117ce",
   "metadata": {},
   "outputs": [],
   "source": [
    "-- TODO: Clone the recovered table\n",
    "-- SYNTAX:\n",
    "-- CREATE TABLE <new_table> CLONE <existing_table>;\n",
    "\n",
    "CREATE TABLE users_clone CLONE users;\n",
    "\n",
    "-- Query the clone to verify\n",
    "SELECT * FROM users_clone;\n"
   ]
  },
  {
   "cell_type": "code",
   "execution_count": null,
   "id": "48a2a0e6",
   "metadata": {},
   "outputs": [],
   "source": [
    "--TODO: Make changes to the cloned table\n",
    "-- SYNTAX:\n",
    "-- INSERT INTO <table_name> VALUES (...), (...), ...;  \n",
    "-- Row Values to  Insert:\n",
    "--   (6, 'Frank', '2024-07-10'),\n",
    "--   (7, 'Grace', '2024-07-15')\n",
    " \n",
    "INSERT INTO users_clone VALUES\n",
    "    (6, 'Frank', '2024-07-10'),\n",
    "    (7, 'Grace', '2024-07-15');"
   ]
  },
  {
   "cell_type": "code",
   "execution_count": null,
   "id": "3fcc6480",
   "metadata": {},
   "outputs": [],
   "source": [
    "--TODO: Compare the original and cloned tables\n",
    "-- SYNTAX:\n",
    "-- SELECT * FROM <table_name>;\n",
    "SELECT * FROM users;\n",
    "SELECT * FROM users_clone;\n",
    "\n",
    "-- TODO SELECT from cloned table\n",
    "SELECT * FROM users_clone;  \n",
    "\n",
    "--TODO: Compare the countoriginal and cloned tables\n",
    "-- SYNTAX:\n",
    "-- SELECT COUNT(*) FROM <table_name>;\n",
    "SELECT COUNT(*) FROM users;\n",
    "SELECT COUNT(*) FROM users_clone;   "
   ]
  }
 ],
 "metadata": {
  "language_info": {
   "name": "python"
  }
 },
 "nbformat": 4,
 "nbformat_minor": 5
}
