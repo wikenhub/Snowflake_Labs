{
 "cells": [
  {
   "cell_type": "markdown",
   "id": "167b7bb5",
   "metadata": {},
   "source": [
    "# Chapter 5: Query Optimization & Cost Control – Lab\n",
    "\n",
    "In this lab, you'll experiment with query performance in Snowflake.  \n",
    "You’ll learn how projection, filtering, result caching, and warehouse resizing affect performance and cost.\n",
    "\n",
    "**Pre-requisite**: Ensure `LAB_DB` and the tables `CUSTOMERS`, `SUBSCRIPTIONS`, and `BILLING` are already created.\n"
   ]
  },
  {
   "cell_type": "markdown",
   "id": "ee3c5dfb",
   "metadata": {},
   "source": [
    "## 1️⃣ Create & Use Dedicated Warehouse"
   ]
  },
  {
   "cell_type": "code",
   "execution_count": null,
   "id": "0a1934ed",
   "metadata": {},
   "outputs": [],
   "source": [
    "-- Use SYSADMIN role and set context\n",
    "USE ROLE SYSADMIN;\n",
    "USE DATABASE lab_db;\n",
    "USE SCHEMA public;\n",
    "ALTER SESSION SET QUERY_TAG = 'ch5_qo_lab';\n",
    "\n",
    "-- Create a dedicated lab warehouse\n",
    "CREATE OR REPLACE WAREHOUSE lab_qo_wh\n",
    "  WAREHOUSE_SIZE = 'SMALL'\n",
    "  AUTO_SUSPEND = 60\n",
    "  AUTO_RESUME = TRUE\n",
    "  INITIALLY_SUSPENDED = TRUE\n",
    "  COMMENT = 'Warehouse for query optimization lab';\n",
    "\n",
    "-- Use the warehouse\n",
    "USE WAREHOUSE lab_qo_wh;"
   ]
  },
  {
   "cell_type": "markdown",
   "id": "7556a4a4",
   "metadata": {},
   "source": [
    "## 2️⃣ Worst Case: No Projection or Filter"
   ]
  },
  {
   "cell_type": "code",
   "execution_count": null,
   "id": "3581686c",
   "metadata": {},
   "outputs": [],
   "source": [
    "-- Select * from all 3 tables with joins\n",
    "SELECT *\n",
    "FROM   customers c\n",
    "JOIN   subscriptions s ON c.customer_id = s.customer_id\n",
    "JOIN   billing b ON s.subscription_id = b.subscription_id\n",
    "LIMIT 50;"
   ]
  },
  {
   "cell_type": "markdown",
   "id": "97d04e08",
   "metadata": {},
   "source": [
    "## 3️⃣ Add Column Projection"
   ]
  },
  {
   "cell_type": "code",
   "execution_count": null,
   "id": "6ca0a4c7",
   "metadata": {},
   "outputs": [],
   "source": [
    "SELECT\n",
    "    c.customer_id,\n",
    "    c.name,\n",
    "    b.amount_due\n",
    "FROM   customers c\n",
    "JOIN   subscriptions s ON c.customer_id = s.customer_id\n",
    "JOIN   billing b ON s.subscription_id = b.subscription_id\n",
    "LIMIT 50;"
   ]
  },
  {
   "cell_type": "markdown",
   "id": "d5708fde",
   "metadata": {},
   "source": [
    "## 4️⃣ Add Filter and Aggregation"
   ]
  },
  {
   "cell_type": "code",
   "execution_count": null,
   "id": "f6363cfe",
   "metadata": {},
   "outputs": [],
   "source": [
    "SELECT\n",
    "    c.customer_id,\n",
    "    c.name,\n",
    "    SUM(b.amount_due) AS total_due\n",
    "FROM   customers c\n",
    "JOIN   subscriptions s ON c.customer_id = s.customer_id\n",
    "JOIN   billing b ON s.subscription_id = b.subscription_id\n",
    "WHERE  b.billing_date >= '2024-01-01'\n",
    "GROUP BY c.customer_id, c.name\n",
    "ORDER BY total_due DESC\n",
    "LIMIT 10;"
   ]
  },
  {
   "cell_type": "markdown",
   "id": "489a6567",
   "metadata": {},
   "source": [
    "## 5️⃣ Re-run to Demonstrate Result Cache"
   ]
  },
  {
   "cell_type": "code",
   "execution_count": null,
   "id": "a9deb332",
   "metadata": {},
   "outputs": [],
   "source": [
    "-- Expect sub-second result due to caching\n",
    "SELECT\n",
    "    c.customer_id,\n",
    "    c.name,\n",
    "    SUM(b.amount_due) AS total_due\n",
    "FROM   customers c\n",
    "JOIN   subscriptions s ON c.customer_id = s.customer_id\n",
    "JOIN   billing b ON s.subscription_id = b.subscription_id\n",
    "WHERE  b.billing_date >= '2024-01-01'\n",
    "GROUP BY c.customer_id, c.name\n",
    "ORDER BY total_due DESC\n",
    "LIMIT 10;"
   ]
  },
  {
   "cell_type": "markdown",
   "id": "066007fd",
   "metadata": {},
   "source": [
    "## 6️⃣ Preview Query Plan with EXPLAIN"
   ]
  },
  {
   "cell_type": "code",
   "execution_count": null,
   "id": "cc53236b",
   "metadata": {},
   "outputs": [],
   "source": [
    "EXPLAIN USING TEXT\n",
    "SELECT\n",
    "    c.customer_id,\n",
    "    SUM(b.amount_due) AS total_due\n",
    "FROM   customers c\n",
    "JOIN   subscriptions s ON c.customer_id = s.customer_id\n",
    "JOIN   billing b ON s.subscription_id = b.subscription_id\n",
    "WHERE  b.billing_date >= '2024-01-01'\n",
    "GROUP BY c.customer_id;"
   ]
  },
  {
   "cell_type": "markdown",
   "id": "4894a909",
   "metadata": {},
   "source": [
    "## 7️⃣ Resize Warehouse to MEDIUM"
   ]
  },
  {
   "cell_type": "code",
   "execution_count": null,
   "id": "bed457a1",
   "metadata": {},
   "outputs": [],
   "source": [
    "ALTER WAREHOUSE lab_qo_wh SET WAREHOUSE_SIZE = MEDIUM;\n",
    "ALTER WAREHOUSE lab_qo_wh SUSPEND;\n",
    "ALTER WAREHOUSE lab_qo_wh RESUME;"
   ]
  },
  {
   "cell_type": "markdown",
   "id": "2cba65a3",
   "metadata": {},
   "source": [
    "## 8️⃣ Re-run Aggregation (Expect Faster Runtime)"
   ]
  },
  {
   "cell_type": "code",
   "execution_count": null,
   "id": "c3eefffc",
   "metadata": {},
   "outputs": [],
   "source": [
    "SELECT\n",
    "    c.customer_id,\n",
    "    c.name,\n",
    "    SUM(b.amount_due) AS total_due\n",
    "FROM   customers c\n",
    "JOIN   subscriptions s ON c.customer_id = s.customer_id\n",
    "JOIN   billing b ON s.subscription_id = b.subscription_id\n",
    "WHERE  b.billing_date >= '2024-01-01'\n",
    "GROUP BY c.customer_id, c.name\n",
    "ORDER BY total_due DESC\n",
    "LIMIT 10;"
   ]
  },
  {
   "cell_type": "markdown",
   "id": "89960c8c",
   "metadata": {},
   "source": [
    "## 9️⃣ Optional: Cost Monitoring via Usage History"
   ]
  },
  {
   "cell_type": "code",
   "execution_count": null,
   "id": "c0ff1282",
   "metadata": {},
   "outputs": [],
   "source": [
    "-- Must be ACCOUNTADMIN or have USAGE rights\n",
    "-- This may fail in restricted environments\n",
    "SELECT\n",
    "    warehouse_name,\n",
    "    SUM(credits_used_cloud_services + credits_used_computation) AS total_credits\n",
    "FROM SNOWFLAKE.INFORMATION_SCHEMA.WAREHOUSE_METERING_HISTORY\n",
    "WHERE warehouse_name = 'LAB_QO_WH'\n",
    "  AND start_time >= DATEADD(DAY, -1, CURRENT_TIMESTAMP())\n",
    "GROUP BY warehouse_name;"
   ]
  },
  {
   "cell_type": "markdown",
   "id": "5f75607c",
   "metadata": {},
   "source": [
    "## 🔚 Clean Up"
   ]
  },
  {
   "cell_type": "code",
   "execution_count": null,
   "id": "dbfafa96",
   "metadata": {},
   "outputs": [],
   "source": [
    "ALTER WAREHOUSE lab_qo_wh SUSPEND;\n",
    "-- DROP WAREHOUSE IF EXISTS lab_qo_wh;  -- Optional\n",
    "ALTER SESSION UNSET QUERY_TAG;"
   ]
  }
 ],
 "metadata": {
  "language_info": {
   "name": "python"
  }
 },
 "nbformat": 4,
 "nbformat_minor": 5
}
